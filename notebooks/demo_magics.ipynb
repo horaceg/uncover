{
 "cells": [
  {
   "cell_type": "code",
   "execution_count": 1,
   "metadata": {
    "execution": {
     "iopub.execute_input": "2020-05-09T15:40:56.021578Z",
     "iopub.status.busy": "2020-05-09T15:40:56.020668Z",
     "iopub.status.idle": "2020-05-09T15:40:56.051973Z",
     "shell.execute_reply": "2020-05-09T15:40:56.047992Z",
     "shell.execute_reply.started": "2020-05-09T15:40:56.021479Z"
    }
   },
   "outputs": [
    {
     "name": "stdout",
     "output_type": "stream",
     "text": [
      "Writing test.py\n"
     ]
    }
   ],
   "source": [
    "%%writefile test.py\n",
    "\n",
    "print('hello, world !')\n",
    "b = 3"
   ]
  },
  {
   "cell_type": "code",
   "execution_count": 2,
   "metadata": {
    "execution": {
     "iopub.execute_input": "2020-05-09T15:40:56.058188Z",
     "iopub.status.busy": "2020-05-09T15:40:56.057089Z",
     "iopub.status.idle": "2020-05-09T15:40:56.095427Z",
     "shell.execute_reply": "2020-05-09T15:40:56.091286Z",
     "shell.execute_reply.started": "2020-05-09T15:40:56.058007Z"
    }
   },
   "outputs": [
    {
     "data": {
      "text/plain": [
       "\u001b[0;34m\u001b[0m\n",
       "\u001b[0;34m\u001b[0m\u001b[0mprint\u001b[0m\u001b[0;34m(\u001b[0m\u001b[0;34m'hello, world !'\u001b[0m\u001b[0;34m)\u001b[0m\u001b[0;34m\u001b[0m\n",
       "\u001b[0;34m\u001b[0m\u001b[0mb\u001b[0m \u001b[0;34m=\u001b[0m \u001b[0;36m3\u001b[0m\u001b[0;34m\u001b[0m\u001b[0;34m\u001b[0m\u001b[0m\n"
      ]
     },
     "metadata": {},
     "output_type": "display_data"
    }
   ],
   "source": [
    "%pycat test.py"
   ]
  },
  {
   "cell_type": "code",
   "execution_count": 3,
   "metadata": {
    "execution": {
     "iopub.execute_input": "2020-05-09T15:40:56.104181Z",
     "iopub.status.busy": "2020-05-09T15:40:56.102592Z",
     "iopub.status.idle": "2020-05-09T15:40:56.132616Z",
     "shell.execute_reply": "2020-05-09T15:40:56.126473Z",
     "shell.execute_reply.started": "2020-05-09T15:40:56.103952Z"
    }
   },
   "outputs": [
    {
     "name": "stdout",
     "output_type": "stream",
     "text": [
      "name 'a' is not defined\n"
     ]
    }
   ],
   "source": [
    "try:\n",
    "    print(a)\n",
    "except Exception as e:\n",
    "    print(str(e))"
   ]
  },
  {
   "cell_type": "code",
   "execution_count": 4,
   "metadata": {
    "execution": {
     "iopub.execute_input": "2020-05-09T15:40:56.141159Z",
     "iopub.status.busy": "2020-05-09T15:40:56.139417Z",
     "iopub.status.idle": "2020-05-09T15:40:56.165215Z",
     "shell.execute_reply": "2020-05-09T15:40:56.160178Z",
     "shell.execute_reply.started": "2020-05-09T15:40:56.141049Z"
    }
   },
   "outputs": [
    {
     "name": "stdout",
     "output_type": "stream",
     "text": [
      "hello, world !\n"
     ]
    }
   ],
   "source": [
    "# %load test.py\n",
    "\n",
    "print('hello, world !')\n",
    "a = 3\n"
   ]
  },
  {
   "cell_type": "code",
   "execution_count": 5,
   "metadata": {
    "execution": {
     "iopub.execute_input": "2020-05-09T15:40:56.171708Z",
     "iopub.status.busy": "2020-05-09T15:40:56.170269Z",
     "iopub.status.idle": "2020-05-09T15:40:56.275886Z",
     "shell.execute_reply": "2020-05-09T15:40:56.272757Z",
     "shell.execute_reply.started": "2020-05-09T15:40:56.171550Z"
    }
   },
   "outputs": [],
   "source": [
    "%reload_ext magic.write_eval"
   ]
  },
  {
   "cell_type": "code",
   "execution_count": 6,
   "metadata": {
    "execution": {
     "iopub.execute_input": "2020-05-09T15:40:56.280307Z",
     "iopub.status.busy": "2020-05-09T15:40:56.279538Z",
     "iopub.status.idle": "2020-05-09T15:40:56.306953Z",
     "shell.execute_reply": "2020-05-09T15:40:56.303721Z",
     "shell.execute_reply.started": "2020-05-09T15:40:56.280226Z"
    }
   },
   "outputs": [
    {
     "name": "stdout",
     "output_type": "stream",
     "text": [
      "Overwriting test.py\n",
      "hello, world !\n"
     ]
    }
   ],
   "source": [
    "%%write_eval test.py\n",
    "\n",
    "print('hello, world !')\n",
    "a = 3"
   ]
  },
  {
   "cell_type": "code",
   "execution_count": 7,
   "metadata": {
    "execution": {
     "iopub.execute_input": "2020-05-09T15:40:56.311791Z",
     "iopub.status.busy": "2020-05-09T15:40:56.310896Z",
     "iopub.status.idle": "2020-05-09T15:40:56.341407Z",
     "shell.execute_reply": "2020-05-09T15:40:56.338331Z",
     "shell.execute_reply.started": "2020-05-09T15:40:56.311682Z"
    }
   },
   "outputs": [
    {
     "data": {
      "text/plain": [
       "\u001b[0;34m\u001b[0m\n",
       "\u001b[0;34m\u001b[0m\u001b[0mprint\u001b[0m\u001b[0;34m(\u001b[0m\u001b[0;34m'hello, world !'\u001b[0m\u001b[0;34m)\u001b[0m\u001b[0;34m\u001b[0m\n",
       "\u001b[0;34m\u001b[0m\u001b[0ma\u001b[0m \u001b[0;34m=\u001b[0m \u001b[0;36m3\u001b[0m\u001b[0;34m\u001b[0m\u001b[0;34m\u001b[0m\u001b[0m\n"
      ]
     },
     "metadata": {},
     "output_type": "display_data"
    }
   ],
   "source": [
    "%pycat test.py"
   ]
  },
  {
   "cell_type": "code",
   "execution_count": 8,
   "metadata": {
    "execution": {
     "iopub.execute_input": "2020-05-09T15:40:56.347693Z",
     "iopub.status.busy": "2020-05-09T15:40:56.346836Z",
     "iopub.status.idle": "2020-05-09T15:40:56.380802Z",
     "shell.execute_reply": "2020-05-09T15:40:56.377115Z",
     "shell.execute_reply.started": "2020-05-09T15:40:56.347537Z"
    }
   },
   "outputs": [
    {
     "data": {
      "text/plain": [
       "3"
      ]
     },
     "execution_count": 8,
     "metadata": {},
     "output_type": "execute_result"
    }
   ],
   "source": [
    "a"
   ]
  },
  {
   "cell_type": "code",
   "execution_count": 9,
   "metadata": {
    "execution": {
     "iopub.execute_input": "2020-05-09T15:40:56.385775Z",
     "iopub.status.busy": "2020-05-09T15:40:56.384958Z",
     "iopub.status.idle": "2020-05-09T15:40:56.547447Z",
     "shell.execute_reply": "2020-05-09T15:40:56.542321Z",
     "shell.execute_reply.started": "2020-05-09T15:40:56.385689Z"
    }
   },
   "outputs": [],
   "source": [
    "rm test.py"
   ]
  },
  {
   "cell_type": "code",
   "execution_count": null,
   "metadata": {},
   "outputs": [],
   "source": []
  }
 ],
 "metadata": {
  "kernelspec": {
   "display_name": "Python 3",
   "language": "python",
   "name": "python3"
  },
  "language_info": {
   "codemirror_mode": {
    "name": "ipython",
    "version": 3
   },
   "file_extension": ".py",
   "mimetype": "text/x-python",
   "name": "python",
   "nbconvert_exporter": "python",
   "pygments_lexer": "ipython3",
   "version": "3.8.2"
  }
 },
 "nbformat": 4,
 "nbformat_minor": 4
}
