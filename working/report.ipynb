{
 "cells": [
  {
   "cell_type": "markdown",
   "metadata": {},
   "source": [
    "# Estimating the impact of Government measures on COVID-19 infection spread through mobility data\n",
    "\n",
    "We aim at answering the question :\n",
    "\n",
    "**How does is the implementation of different strategies affecting the rates of COVID-19 infection ?**"
   ]
  },
  {
   "cell_type": "markdown",
   "metadata": {},
   "source": [
    "## SEIR-HCD Model\n",
    "\n",
    "Model built on compartmental models. Each of the following letters represents a compartment of the population of a country:\n",
    "\n",
    "S - susceptible  \n",
    "E - exposed  \n",
    "I - infectious  \n",
    "R - recovered  \n",
    "H - hospitalized  \n",
    "C - critical  \n",
    "D - deceased  \n",
    "\n",
    "We normalize these count numbers by the total population of the country."
   ]
  },
  {
   "cell_type": "code",
   "execution_count": 8,
   "metadata": {
    "execution": {
     "iopub.execute_input": "2020-05-02T21:49:34.205892Z",
     "iopub.status.busy": "2020-05-02T21:49:34.205405Z",
     "iopub.status.idle": "2020-05-02T21:49:34.225887Z",
     "shell.execute_reply": "2020-05-02T21:49:34.222720Z",
     "shell.execute_reply.started": "2020-05-02T21:49:34.205842Z"
    }
   },
   "outputs": [
    {
     "data": {
      "text/latex": [
       "\\begin{align}\n",
       "\\frac{dS}{dt} &= - \\frac{R_t}{T_{inf}} I S \\\\\n",
       "\\frac{dE}{dt} &= \\frac{R_t}{T_{inf}} I S - \\frac{E}{T_{inc}} \\\\\n",
       "\\frac{dI}{dt} &= \\frac{E}{T_{inc}} - \\frac{I}{T_{inf}} \\\\\n",
       "\\frac{dR}{dt} &= m_a \\frac{I}{T_{inf}} + (1 - c_a)\\frac{H}{T_{hosp}} \\\\\n",
       "\\frac{dH}{dt} &= (1 - m_a) \\frac{I}{T_{inf}} + (1 - f_a)\\frac{C}{T_{crit}} - \\frac{H}{T_{hosp}} \\\\\n",
       "\\frac{dC}{dt} &= c_a \\frac{H}{T_{hosp}} - \\frac{C}{T_{crit}} \\\\\n",
       "\\frac{dD}{dt} &= f_a \\frac{C}{T_{crit}}\n",
       "\\end{align}\n"
      ],
      "text/plain": [
       "<IPython.core.display.Latex object>"
      ]
     },
     "metadata": {},
     "output_type": "display_data"
    }
   ],
   "source": [
    "%%latex\n",
    "\\begin{align}\n",
    "\\frac{dS}{dt} &= - \\frac{R_t}{T_{inf}} I S \\\\\n",
    "\\frac{dE}{dt} &= \\frac{R_t}{T_{inf}} I S - \\frac{E}{T_{inc}} \\\\\n",
    "\\frac{dI}{dt} &= \\frac{E}{T_{inc}} - \\frac{I}{T_{inf}} \\\\\n",
    "\\frac{dR}{dt} &= m_a \\frac{I}{T_{inf}} + (1 - c_a)\\frac{H}{T_{hosp}} \\\\\n",
    "\\frac{dH}{dt} &= (1 - m_a) \\frac{I}{T_{inf}} + (1 - f_a)\\frac{C}{T_{crit}} - \\frac{H}{T_{hosp}} \\\\\n",
    "\\frac{dC}{dt} &= c_a \\frac{H}{T_{hosp}} - \\frac{C}{T_{crit}} \\\\\n",
    "\\frac{dD}{dt} &= f_a \\frac{C}{T_{crit}}\n",
    "\\end{align}"
   ]
  },
  {
   "cell_type": "markdown",
   "metadata": {},
   "source": [
    "### Parameters used in the model\n",
    "$R_t$ = reproduction number at time t.  \n",
    "Typical 3.6* at t=0\n",
    "\n",
    "Transition times\n",
    "\n",
    "    T_inc = average incubation period. Typical 5.6* days\n",
    "    T_inf = average infectious period. Typical 2.9 days\n",
    "    T_hosp = average time a patient is in hospital before either recovering or becoming critical. Typical 4 days\n",
    "    T_crit = average time a patient is in a critical state (either recover or die). Typical 14 days\n",
    "\n",
    "Fractions  \n",
    "These constants are likely to be age specific (hence the subscript a):\n",
    "\n",
    "    m_a = fraction of infections that are asymptomatic or mild. Assumed 80% (i.e. 20% severe)\n",
    "    c_a = fraction of severe cases that turn critical. Assumed 10%\n",
    "    f_a = fraction of critical cases that are fatal. Assumed 30%\n",
    "    \n",
    "*Averages taken from https://www.kaggle.com/covid-19-contributions"
   ]
  },
  {
   "cell_type": "markdown",
   "metadata": {},
   "source": [
    "### Reproduction number and mobility\n",
    "let $\\mathrm{m}_t$ be the reduction of mobility relatively to a baseline (before the pandemic).  \n",
    "Hence $\\mathrm{m}_t > -1$.\n",
    "\n",
    "We assume the following relationship:\n",
    "$$ R_t = (1 + \\mathrm{m}_t)R_0 - \\mathrm{m}_tR_1  $$\n",
    "for any time $t$ through the pandemic, with $R_0$, $R_1$ to be estimated."
   ]
  },
  {
   "cell_type": "markdown",
   "metadata": {},
   "source": [
    "## Bayesian modelling\n",
    "\n",
    "We use the numpyro probabilistic programming framework.\n",
    "\n",
    "We use the following parameterizations:\n",
    "- (concentration, rate) for the $\\mathrm{GammaPoisson}$ distribution.\n",
    "- (mean, std) for the $\\mathrm{Gamma}$ distribution\n",
    "- (mean, sample size) for the $\\mathrm{Beta}$ distribution\n",
    "\n",
    "### Target\n",
    "Let $D_t$ be the number of death at time $t$ for a given country. We model $d_t = \\mathbb{E}[D_t]$\n",
    "\n",
    "We sample \n",
    "$$D_t \\sim \\mathrm{GammaPoisson}(\\psi d_t, \\psi)$$\n",
    "where $\\psi \\sim \\mathcal{N}^+(0, 5)$\n",
    "\n",
    "### Compartment init\n",
    "We seed the model with the following, assuming $N$ is the country population:\n",
    "- $I_0 \\sim Gamma(100, 50) / N$\n",
    "- $S_0 = 1 - I_0$\n",
    "- $E_0, R_0, H_0, C_0, D_0 = 0$\n",
    "\n",
    "### Other priors\n",
    "$R_0 \\sim \\mathcal{N}^+(3.28, \\kappa_0)$\n",
    "\n",
    "$R_1 \\sim \\mathcal{N}^+(0.7, \\kappa_1)$\n",
    "\n",
    "where $\\kappa_0, \\kappa_1 \\sim \\mathcal{N}^+(0, .5)$\n",
    "\n",
    "\n",
    "$T_{inc} \\sim \\mathrm{Gamma}(5.6, .86)$\n",
    "\n",
    "$T_{inc} \\sim \\mathrm{Gamma}(2.9, 1)$\n",
    "\n",
    "$T_{hosp} \\sim \\mathrm{Gamma}(4, 1)$\n",
    "\n",
    "$T_{crit} \\sim \\mathrm{Gamma}(14, 1)$\n",
    "\n",
    "$m_a \\sim \\mathrm{Beta}(0.8, \\phi)$\n",
    "\n",
    "$c_a \\sim \\mathrm{Beta}(0.1, \\phi)$\n",
    "\n",
    "$f_a \\sim \\mathrm{Beta}(0.35, \\phi)$\n",
    "\n",
    "where $\\phi \\sim \\mathrm{Exponential}(1)$\n"
   ]
  },
  {
   "cell_type": "markdown",
   "metadata": {},
   "source": [
    "# Sources\n",
    "\n",
    "\n",
    "[Prior work](https://github.com/horaceg/uncover/blob/master/working/Measures%20and%20rate.html) (to be downloaded):  \n",
    "- Map + time series of measures with cases and mobility\n",
    "- Minimization of parameters for the compartment model\n",
    "\n",
    "*Sources*\n",
    "\n",
    "- Imperial team\n",
    "    - [Report 13](https://www.imperial.ac.uk/mrc-global-infectious-disease-analysis/covid-19/report-13-europe-npi-impact/): 30 March 2020\n",
    "    - [Technical update](https://arxiv.org/abs/2004.11342): 23 april 2020\n",
    "    - [Code](https://github.com/ImperialCollegeLondon/covid19model) in R and Stan\n",
    "    - [website](https://mrc-ide.github.io/covid19estimates/#/)\n",
    "\n",
    "\n",
    "- Compartment models\n",
    "    - [Wikipedia](https://en.wikipedia.org/wiki/Compartmental_models_in_epidemiology)\n",
    "    - SEIR-HCD [Kaggle kernel](https://www.kaggle.com/anjum48/seir-hcd-model) from @anjum (Datasaurus). Sources of inspiration:\n",
    "        - [Neher labs](https://covid19-scenarios.org/) \n",
    "        - [Gabriel Goh](https://gabgoh.github.io/COVID/index.html) \n",
    "\n",
    "\n",
    "- Probabilistic programming\n",
    "    - [numpyro](https://github.com/pyro-ppl/numpyro) ([paper](https://arxiv.org/abs/1912.11554)): probabilistic programming library in python, built on [JAX](https://github.com/google/jax)\n",
    "    - [SEIR ode modelling](https://docs.pymc.io/notebooks/ODE_API_introduction.html) in Pymc3 \n",
    "    - [Predator-Prey ode](http://pyro.ai/numpyro/examples/ode.html) in Numpyro \n",
    "    - Another [predator-prey](https://fehiepsi.github.io/rethinking-numpyro/16-generalized-linear-madness.html) ode in numpyro\n",
    "    - [A bayesian SIR](https://github.com/twiecki/covid19) modelling with Pymc3 with the [video](https://youtu.be/C1kWBTj6KvE?t=410)\n",
    "    - [Estimating COVID-19's $R_t$ in Real-Time with PYMC3](https://github.com/k-sys/covid-19/blob/master/Realtime%20Rt%20mcmc.ipynb)\n",
    "\n",
    "- Misc\n",
    "    - [generation interval](https://www.medrxiv.org/content/10.1101/2020.03.05.20031815v1)\n",
    "\n",
    "\n",
    "*Data sources*\n",
    "\n",
    "- Epidemiology\n",
    "    - [Our world in data](https://github.com/owid/covid-19-data/tree/master/public/data): confirmed cases and deaths from ECDC (European center of Disease Control) + tests (collected by owid)\n",
    "\n",
    "\n",
    "- Mobility\n",
    "    - [Apple](https://www.apple.com/covid19/mobility) - 3 categories: walking, driving, transit\n",
    "    - [Google](https://www.google.com/covid19/mobility/) - 6 categories\n",
    "\n",
    "\n",
    "- Government Measures\n",
    "    - [ACAPS](https://data.humdata.org/dataset/acaps-covid19-government-measures-dataset)\n",
    "    - [Oxford](https://www.bsg.ox.ac.uk/research/research-projects/coronavirus-government-response-tracker)\n"
   ]
  },
  {
   "cell_type": "code",
   "execution_count": null,
   "metadata": {},
   "outputs": [],
   "source": []
  }
 ],
 "metadata": {
  "kernelspec": {
   "display_name": "Python 3",
   "language": "python",
   "name": "python3"
  },
  "language_info": {
   "codemirror_mode": {
    "name": "ipython",
    "version": 3
   },
   "file_extension": ".py",
   "mimetype": "text/x-python",
   "name": "python",
   "nbconvert_exporter": "python",
   "pygments_lexer": "ipython3",
   "version": "3.8.2"
  },
  "toc-autonumbering": false,
  "toc-showtags": false
 },
 "nbformat": 4,
 "nbformat_minor": 4
}
