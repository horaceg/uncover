{
 "cells": [
  {
   "cell_type": "markdown",
   "metadata": {},
   "source": [
    "# Estimating the impact of Government measures on COVID-19 infection spread through mobility data\n",
    "\n",
    "We aim at answering the question :\n",
    "\n",
    "**How does is the implementation of different strategies affecting the rates of COVID-19 infection ?**"
   ]
  },
  {
   "cell_type": "markdown",
   "metadata": {},
   "source": [
    "We build a bayesian framework, that leverages an epidemiological compartmental model, in order to estimate the real effective reproduction number $R_t$ through time as a function of mobility data.  \n",
    "We also build another model that predicts mobility based on non-pharmaceutical interventions (NPIs), in order to build an end-to-end pipeline from NPIs to $R_t$ and compartments, e.g. number of hospitalized, critical and deceased individuals.   \n",
    "This allows us to build _what if_ scenarios, useful to evaluate governement policies both restrospectively and prospectively.\n"
   ]
  },
  {
   "cell_type": "markdown",
   "metadata": {},
   "source": [
    "![process](covid_estimation.svg)"
   ]
  },
  {
   "cell_type": "markdown",
   "metadata": {},
   "source": [
    "## Measures dataset\n",
    "\n",
    "Description of Oxford dataset, categories c1 to c8"
   ]
  },
  {
   "cell_type": "markdown",
   "metadata": {},
   "source": [
    "## Mobility datasets\n",
    "We gathered data from Google and Apple, describing respectively 6 and 3 mobility categories.\n",
    "\n",
    "Google\n",
    "- _Retail and recreation_\n",
    "    - restaurants, cafes, shopping centers, theme parks, museums, libraries, and movie theaters.\n",
    "- _Grocery and pharmacy_\n",
    "    - grocery markets, food warehouses, farmers markets, specialty food shops, drug stores, and pharmacies.\n",
    "- _Parks_\n",
    "    - national parks, public beaches, marinas, dog parks, plazas,and public gardens\n",
    "- _Transit stations_\n",
    "    - public transport hubs such as subway, bus, and train stations\n",
    "- _Workplaces_\n",
    "- _Residential_\n",
    "\n",
    "_The baseline is the median value, for the corresponding day of the week, during the 5-week period Jan 3–Feb 6, 2020._\n",
    "\n",
    "Apple\n",
    "- _Driving_\n",
    "- _Walking_\n",
    "- _Transit_\n",
    "\n",
    "_relative volume of directions requests per country/region, sub-region or city compared to a baseline volume on 13 January 2020_"
   ]
  },
  {
   "cell_type": "markdown",
   "metadata": {},
   "source": [
    "## SEIR-HCD Model\n",
    "\n",
    "Model built on compartmental models. Each of the following letters represents a compartment of the population of a country:\n",
    "\n",
    "S - susceptible  \n",
    "E - exposed  \n",
    "I - infectious  \n",
    "R - recovered  \n",
    "H - hospitalized  \n",
    "C - critical  \n",
    "D - deceased  \n",
    "\n",
    "We normalize these count numbers by the total population of the country."
   ]
  },
  {
   "cell_type": "code",
   "execution_count": 8,
   "metadata": {
    "execution": {
     "iopub.execute_input": "2020-05-02T21:49:34.205892Z",
     "iopub.status.busy": "2020-05-02T21:49:34.205405Z",
     "iopub.status.idle": "2020-05-02T21:49:34.225887Z",
     "shell.execute_reply": "2020-05-02T21:49:34.222720Z",
     "shell.execute_reply.started": "2020-05-02T21:49:34.205842Z"
    }
   },
   "outputs": [
    {
     "data": {
      "text/latex": [
       "\\begin{align}\n",
       "\\frac{dS}{dt} &= - \\frac{R_t}{T_{inf}} I S \\\\\n",
       "\\frac{dE}{dt} &= \\frac{R_t}{T_{inf}} I S - \\frac{E}{T_{inc}} \\\\\n",
       "\\frac{dI}{dt} &= \\frac{E}{T_{inc}} - \\frac{I}{T_{inf}} \\\\\n",
       "\\frac{dR}{dt} &= m_a \\frac{I}{T_{inf}} + (1 - c_a)\\frac{H}{T_{hosp}} \\\\\n",
       "\\frac{dH}{dt} &= (1 - m_a) \\frac{I}{T_{inf}} + (1 - f_a)\\frac{C}{T_{crit}} - \\frac{H}{T_{hosp}} \\\\\n",
       "\\frac{dC}{dt} &= c_a \\frac{H}{T_{hosp}} - \\frac{C}{T_{crit}} \\\\\n",
       "\\frac{dD}{dt} &= f_a \\frac{C}{T_{crit}}\n",
       "\\end{align}\n"
      ],
      "text/plain": [
       "<IPython.core.display.Latex object>"
      ]
     },
     "metadata": {},
     "output_type": "display_data"
    }
   ],
   "source": [
    "%%latex\n",
    "\\begin{align}\n",
    "\\frac{dS}{dt} &= - \\frac{R_t}{T_{inf}} I S \\\\\n",
    "\\frac{dE}{dt} &= \\frac{R_t}{T_{inf}} I S - \\frac{E}{T_{inc}} \\\\\n",
    "\\frac{dI}{dt} &= \\frac{E}{T_{inc}} - \\frac{I}{T_{inf}} \\\\\n",
    "\\frac{dR}{dt} &= m_a \\frac{I}{T_{inf}} + (1 - c_a)\\frac{H}{T_{hosp}} \\\\\n",
    "\\frac{dH}{dt} &= (1 - m_a) \\frac{I}{T_{inf}} + (1 - f_a)\\frac{C}{T_{crit}} - \\frac{H}{T_{hosp}} \\\\\n",
    "\\frac{dC}{dt} &= c_a \\frac{H}{T_{hosp}} - \\frac{C}{T_{crit}} \\\\\n",
    "\\frac{dD}{dt} &= f_a \\frac{C}{T_{crit}}\n",
    "\\end{align}"
   ]
  },
  {
   "cell_type": "markdown",
   "metadata": {},
   "source": [
    "### Parameters used in the model\n",
    "$R_t$ = reproduction number at time t.  \n",
    "Typical 3.6* at t=0\n",
    "\n",
    "Transition times\n",
    "\n",
    "    T_inc = average incubation period. Typical 5.6* days\n",
    "    T_inf = average infectious period. Typical 2.9 days\n",
    "    T_hosp = average time a patient is in hospital before either recovering or becoming critical. Typical 4 days\n",
    "    T_crit = average time a patient is in a critical state (either recover or die). Typical 14 days\n",
    "\n",
    "Fractions  \n",
    "These constants are likely to be age specific (hence the subscript a):\n",
    "\n",
    "    m_a = fraction of infections that are asymptomatic or mild. Assumed 80% (i.e. 20% severe)\n",
    "    c_a = fraction of severe cases that turn critical. Assumed 10%\n",
    "    f_a = fraction of critical cases that are fatal. Assumed 30%\n",
    "    \n",
    "*Averages taken from https://www.kaggle.com/covid-19-contributions\n",
    "\n",
    "#### Priors for these parameters\n",
    "- The Conversation [article](https://theconversation.com/how-long-are-you-infectious-when-you-have-coronavirus-135295):\n",
    "    - Incubation: 5 days\n",
    "    - Infectious period: 2 days in incubation, 6 days from symptoms onwards\n",
    "    - Illness: 10 days\n",
    "    - NB: _For COVID-19, there is emerging evidence to suggest the infectious period may start 1 to 3 days before you develop symptoms_ \n",
    "        - We can reduce incubation time by 2 days and increase infectious time by 2\n",
    "    - [article](https://www.thelancet.com/journals/laninf/article/PIIS1473-3099(20)30196-1/fulltext)\n",
    "        - _The peak viral load of patients with MERS-CoV and SARS-CoV infections occurs at around 7–10 days after symptom onset_ \n",
    "        - _The median interval between symptom onset and hospitalisation was 4 days (range 0–13)_\n",
    "\n",
    "- Imperial\n",
    "    - T_inc: Gamma(5.1, 0.86)\n",
    "        - _The infection-to-onset distribution is Gamma distributed with mean 5.1 days and coefficient of variation 0.86._   \n",
    "    - T_inf + T_hosp + T_crit: Gamma(17.8, 0.45)\n",
    "        - _The onset-to-death distribution is also Gamma distributed with a mean of 17.8 days and a coefficient of variation 0.45._  \n",
    "    - T_inc + T_inf + T_hosp + T_crit\n",
    "        - _The infection-to-death distribution is therefore given by: π∼Gamma(5.1,0.86) + Gamma(17.8,0.45)_"
   ]
  },
  {
   "cell_type": "markdown",
   "metadata": {
    "execution": {
     "iopub.execute_input": "2020-05-08T22:07:19.465941Z",
     "iopub.status.busy": "2020-05-08T22:07:19.465683Z",
     "iopub.status.idle": "2020-05-08T22:07:19.473319Z",
     "shell.execute_reply": "2020-05-08T22:07:19.471948Z",
     "shell.execute_reply.started": "2020-05-08T22:07:19.465917Z"
    }
   },
   "source": [
    "### Reproduction number\n",
    "let $\\mathrm{m}_{t, i}$ be the reduction of mobility in the category $i$, relatively to a baseline (before the pandemic).  \n",
    "Hence $\\mathrm{m}_{t, i} > -1$.\n",
    "\n",
    "We adopt the strong hypothesis that each mobility category presents the same transmission dynamics. Let $R_{t, i}$ be defined by the following linear relationship:\n",
    "$$ R_{t, i} = (1 + \\mathrm{m}_{t, i})R_0 - \\mathrm{m}_{t, i}R_1  $$\n",
    "for any time $t$ through the pandemic, with $R_0$, $R_1$ to be estimated.\n",
    "\n",
    "We model the effective reproduction number with a weighted mean for each mobility category: \n",
    "\n",
    "$$R_t = \\sum_i \\alpha_i R_{t, i}$$\n",
    "with $\\alpha_i$ to be estimated, where\n",
    "- $\\sum_i \\alpha_i = 1$ \n",
    "- $\\forall i, \\alpha_i > 0$\n",
    "\n",
    "We choose the following prior : $\\forall i, \\alpha_i \\sim \\mathrm{Gamma}(1, .5)$"
   ]
  },
  {
   "cell_type": "markdown",
   "metadata": {},
   "source": [
    "## Bayesian modelling\n",
    "\n",
    "We use the numpyro probabilistic programming framework.\n",
    "\n",
    "We use the following parameterizations:\n",
    "- (concentration, rate) for the $\\mathrm{GammaPoisson}$ distribution.\n",
    "- (mean, std) for the $\\mathrm{Gamma}$ distribution\n",
    "- (mean, sample size) for the $\\mathrm{Beta}$ distribution\n",
    "\n",
    "### Target\n",
    "Let $D_t$ be the number of death at time $t$ for a given country. We model $d_t = \\mathbb{E}[D_t]$\n",
    "\n",
    "We sample \n",
    "$$D_t \\sim \\mathrm{GammaPoisson}(\\psi, \\frac{\\psi}{d_t})$$\n",
    "where $\\psi \\sim \\mathcal{N}^+(0, 5)$\n",
    "\n",
    "### Compartment init\n",
    "We seed the model with the following, assuming $N$ is the country population:\n",
    "- $I_0 \\sim \\mathrm{Gamma}(100, 50) / N$\n",
    "- $S_0 = 1 - I_0$\n",
    "- $E_0, R_0, H_0, C_0, D_0 = 0$\n",
    "\n",
    "### Other priors\n",
    "$R_0 \\sim \\mathcal{N}^+(3.28, \\kappa_0)$\n",
    "\n",
    "$R_1 \\sim \\mathcal{N}^+(0.7, \\kappa_1)$\n",
    "\n",
    "where $\\kappa_0, \\kappa_1 \\sim \\mathcal{N}^+(0, .5)$\n",
    "\n",
    "\n",
    "$T_{inc} \\sim \\mathrm{Gamma}(5.6, .86)$\n",
    "\n",
    "$T_{inf} \\sim \\mathrm{Gamma}(2.9, 1)$\n",
    "\n",
    "$T_{hosp} \\sim \\mathrm{Gamma}(4, 1)$\n",
    "\n",
    "$T_{crit} \\sim \\mathrm{Gamma}(14, 1)$\n",
    "\n",
    "$m_a \\sim \\mathrm{Beta}(0.8, \\phi_m)$\n",
    "\n",
    "$c_a \\sim \\mathrm{Beta}(0.1, \\phi_c)$\n",
    "\n",
    "$f_a \\sim \\mathrm{Beta}(0.35, \\phi_f)$\n",
    "\n",
    "where $\\phi_m, \\phi_c, \\phi_f \\sim \\mathrm{Gamma}(7, 2)$\n"
   ]
  },
  {
   "cell_type": "markdown",
   "metadata": {},
   "source": [
    "# Relationship between measures and mobility"
   ]
  },
  {
   "cell_type": "markdown",
   "metadata": {},
   "source": [
    "## Action plan\n",
    "We can leverage ACAPS and/or Oxford datasets. \n",
    "\n",
    "### Approach 1: bayesian regression\n",
    "- Use events data like Imperial, e.g. $m_t = \\exp(- \\sum \\alpha_k I_{k, t}) - 1$ with $I_{k, t} \\in \\{0, 1\\}$ indicator of the measure $k$, and $\\alpha_k$ to be inferred\n",
    "- Same thing but with $I_k \\geq 0$ quantifying the impact (Oxford dataset)\n",
    "- Add lag features ? Exponentially weighted mean of indicators ?\n",
    "- Regularization : Ridge, Lasso ?\n",
    "- Fit model on one country vs multiple country\n",
    "    - how to handle country-specific behaviors e.g. parks in Sweden, Denmark ? Is it / should it be implemented in the measure indicator ?\n",
    "\n",
    "### Approach 2: infer causality ?\n",
    "\n",
    "- [Article](https://towardsdatascience.com/inferring-causality-in-time-series-data-b8b75fe52c46#99db): _Inferring causality in time series data_\n",
    "    - [Tigramite](https://github.com/jakobrunge/tigramite): PCMCI - _Causal discovery for time series datasets_\n",
    "- Paper [Graphical models for time series](https://sci-hub.im/https://ieeexplore.ieee.org/document/5563116): Gaining insight into their computational implementation"
   ]
  },
  {
   "cell_type": "markdown",
   "metadata": {},
   "source": [
    "# Combining to make scenarios\n",
    "\n",
    "- What if the lockdown was decided one week later ? Two weeks earlier ?\n",
    "- What will happen if the lockdown is lifted in one week ? Will we see a spike in hospitals ? #flatten the curve\n",
    "\n",
    "\n",
    "- Input : measure, date of implementation, country\n",
    "- Output : deaths [+ infected, hospitalized, critical] time series"
   ]
  },
  {
   "cell_type": "markdown",
   "metadata": {},
   "source": [
    "# Future work\n",
    "\n",
    "- We could leverage hospitalization and ICU previsions from IHME and feed it to the model, so that it learns based on observations of H, C and D compartments at once. This would reinforce the confidence one can have on the deceased predictions, as well as enable the model to estimate other compartments more accurately.\n",
    "- We could include Citymapper [mobility index](https://citymapper.com/cmi/) as an additional mobility measurement, as they do [there](https://www.medrxiv.org/content/10.1101/2020.04.05.20054288v2)"
   ]
  },
  {
   "cell_type": "markdown",
   "metadata": {},
   "source": [
    "# Sources\n",
    "\n",
    "\n",
    "[Prior work](https://github.com/horaceg/uncover/blob/master/working/Measures%20and%20rate.html) (to be downloaded):  \n",
    "- Map + time series of measures with cases and mobility\n",
    "- Minimization of parameters for the compartment model\n",
    "\n",
    "*Sources*\n",
    "\n",
    "- Imperial team\n",
    "    - [Report 13](https://www.imperial.ac.uk/mrc-global-infectious-disease-analysis/covid-19/report-13-europe-npi-impact/): 30 March 2020\n",
    "    - [Technical update](https://arxiv.org/abs/2004.11342): 23 april 2020\n",
    "    - [Code](https://github.com/ImperialCollegeLondon/covid19model) in R and Stan\n",
    "    - [website](https://mrc-ide.github.io/covid19estimates/#/)\n",
    "\n",
    "\n",
    "- R0: [An article estimating it](https://academic.oup.com/jtm/article/27/2/taaa021/5735319) 13 Feb 2020\n",
    "\n",
    "\n",
    "- Compartment models\n",
    "    - [Wikipedia](https://en.wikipedia.org/wiki/Compartmental_models_in_epidemiology)\n",
    "    - SEIR-HCD [Kaggle kernel](https://www.kaggle.com/anjum48/seir-hcd-model) from @anjum (Datasaurus). Sources of inspiration:\n",
    "        - [Neher labs](https://covid19-scenarios.org/) \n",
    "        - [Gabriel Goh](https://gabgoh.github.io/COVID/index.html) \n",
    "\n",
    "\n",
    "- Probabilistic programming\n",
    "    - [numpyro](https://github.com/pyro-ppl/numpyro) ([paper](https://arxiv.org/abs/1912.11554)): probabilistic programming library in python, built on [JAX](https://github.com/google/jax)\n",
    "    - [SEIR ode modelling](https://docs.pymc.io/notebooks/ODE_API_introduction.html) in Pymc3 \n",
    "    - [Predator-Prey ode](http://pyro.ai/numpyro/examples/ode.html) in Numpyro \n",
    "    - Another [predator-prey](https://fehiepsi.github.io/rethinking-numpyro/16-generalized-linear-madness.html) ode in numpyro\n",
    "    - [A bayesian SIR](https://github.com/twiecki/covid19) modelling with Pymc3 with the [video](https://youtu.be/C1kWBTj6KvE?t=410)\n",
    "    - [Estimating COVID-19's $R_t$ in Real-Time with PYMC3](https://github.com/k-sys/covid-19/blob/master/Realtime%20Rt%20mcmc.ipynb) by Keving Systrom, founder of Instagram\n",
    "\n",
    "\n",
    "- Other submissions\n",
    "    - previous winning solution : [Worldwide measures implementation](https://www.kaggle.com/agneshui/worldwide-measures-implementations)\n",
    "    - [Covid19 reopening impact with r estimation](https://www.kaggle.com/wjholst/covid-19-reopening-impact-with-r-estimation)\n",
    "\n",
    "\n",
    "- Misc\n",
    "    - [generation interval](https://www.medrxiv.org/content/10.1101/2020.03.05.20031815v1)\n",
    "    - [masks](https://www.preprints.org/manuscript/202004.0203/v1)\n",
    "\n",
    "*Data sources*\n",
    "\n",
    "- Epidemiology\n",
    "    - [Our world in data](https://github.com/owid/covid-19-data/tree/master/public/data): confirmed cases and deaths from ECDC (European center of Disease Control) + tests (collected by owid)\n",
    "\n",
    "\n",
    "- Mobility\n",
    "    - [Apple](https://www.apple.com/covid19/mobility) - 3 categories: walking, driving, transit\n",
    "    - [Google](https://www.google.com/covid19/mobility/) - 6 categories\n",
    "\n",
    "\n",
    "- Government Measures\n",
    "    - [ACAPS](https://data.humdata.org/dataset/acaps-covid19-government-measures-dataset)\n",
    "    - [Oxford](https://www.bsg.ox.ac.uk/research/research-projects/coronavirus-government-response-tracker)\n"
   ]
  }
 ],
 "metadata": {
  "kernelspec": {
   "display_name": "Python 3",
   "language": "python",
   "name": "python3"
  },
  "language_info": {
   "codemirror_mode": {
    "name": "ipython",
    "version": 3
   },
   "file_extension": ".py",
   "mimetype": "text/x-python",
   "name": "python",
   "nbconvert_exporter": "python",
   "pygments_lexer": "ipython3",
   "version": "3.8.2"
  },
  "toc-autonumbering": false,
  "toc-showtags": false
 },
 "nbformat": 4,
 "nbformat_minor": 4
}
