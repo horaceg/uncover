{
 "cells": [
  {
   "cell_type": "code",
   "execution_count": 1,
   "metadata": {
    "execution": {
     "iopub.execute_input": "2020-05-01T11:53:52.124081Z",
     "iopub.status.busy": "2020-05-01T11:53:52.123073Z",
     "iopub.status.idle": "2020-05-01T11:53:59.728720Z",
     "shell.execute_reply": "2020-05-01T11:53:59.725501Z",
     "shell.execute_reply.started": "2020-05-01T11:53:52.123732Z"
    }
   },
   "outputs": [],
   "source": [
    "import argparse\n",
    "import os\n",
    "\n",
    "import matplotlib\n",
    "import matplotlib.pyplot as plt\n",
    "\n",
    "from jax.experimental.ode import build_odeint, odeint\n",
    "import jax.numpy as np\n",
    "from jax.random import PRNGKey\n",
    "\n",
    "import numpyro\n",
    "import numpyro.distributions as dist\n",
    "# from numpyro.examples.datasets import LYNXHARE, load_dataset\n",
    "from numpyro.infer import MCMC, NUTS, Predictive\n",
    "import arviz as az\n",
    "\n",
    "NUM_CHAINS = 1\n",
    "numpyro.set_host_device_count(NUM_CHAINS)\n",
    "# numpyro.enable_x64()"
   ]
  },
  {
   "cell_type": "markdown",
   "metadata": {},
   "source": [
    "# Data"
   ]
  },
  {
   "cell_type": "code",
   "execution_count": 2,
   "metadata": {
    "execution": {
     "iopub.execute_input": "2020-05-01T11:53:59.734207Z",
     "iopub.status.busy": "2020-05-01T11:53:59.733345Z",
     "iopub.status.idle": "2020-05-01T11:54:00.810373Z",
     "shell.execute_reply": "2020-05-01T11:54:00.807292Z",
     "shell.execute_reply.started": "2020-05-01T11:53:59.734083Z"
    }
   },
   "outputs": [],
   "source": [
    "import pandas as pd\n",
    "\n",
    "ix = pd.IndexSlice\n",
    "\n",
    "full = pd.read_csv('full.csv', index_col=['location', 'date', 'variable']).iloc[:, 0]\n",
    "subset = full.loc['France']\n",
    "populations_country = pd.read_csv('populations_country.csv', index_col='location').iloc[:, 0]\n",
    "pop_fr = populations_country.loc['France']\n",
    "infected = subset.loc[ix[:, 'total_cases']].replace(0, np.nan).dropna().values\n",
    "total_deaths = subset.loc[ix[:, 'total_deaths']].loc['2020-02-15':].values\n",
    "susceptible = pop_fr - infected\n",
    "data = np.stack([susceptible, infected]).T\n",
    "# data = infected\n",
    "\n",
    "times = subset.loc[ix[:, 'total_cases']].replace(0, np.nan).dropna().index\n",
    "# times = np.arange(times.shape[0])"
   ]
  },
  {
   "cell_type": "markdown",
   "metadata": {},
   "source": [
    "# SI model\n",
    "Inspired by the predator-prey tutorial and the PYMC3 ode blog post"
   ]
  },
  {
   "cell_type": "markdown",
   "metadata": {},
   "source": [
    "We use first a SI model, of two populations:\n",
    "- Susceptible (S)\n",
    "- Infected (I)\n",
    "\n",
    "The dynamics of populations is governed by a system of differential equations:\n",
    "- $\\frac{dS}{dt} = - R_0 S I$\n",
    "- $\\frac{dI}{dt} = R_0 S I$"
   ]
  },
  {
   "cell_type": "code",
   "execution_count": 3,
   "metadata": {
    "execution": {
     "iopub.execute_input": "2020-05-01T11:54:00.822007Z",
     "iopub.status.busy": "2020-05-01T11:54:00.820405Z",
     "iopub.status.idle": "2020-05-01T11:54:00.854524Z",
     "shell.execute_reply": "2020-05-01T11:54:00.849312Z",
     "shell.execute_reply.started": "2020-05-01T11:54:00.821816Z"
    }
   },
   "outputs": [],
   "source": [
    "def dz_dt(z, t, r0):\n",
    "    s = np.clip(z[0], 0., 1.)\n",
    "    i = np.clip(z[1], 0., 1.)\n",
    "    ds_dt = - r0 * i * s\n",
    "    di_dt = r0 * i * s\n",
    "    return np.stack([ds_dt, di_dt])\n",
    "\n",
    "si_int = build_odeint(dz_dt, rtol=1e-5, atol=1e-3, mxstep=500)"
   ]
  },
  {
   "cell_type": "code",
   "execution_count": 4,
   "metadata": {
    "execution": {
     "iopub.execute_input": "2020-05-01T11:54:00.863046Z",
     "iopub.status.busy": "2020-05-01T11:54:00.861850Z",
     "iopub.status.idle": "2020-05-01T11:54:03.472074Z",
     "shell.execute_reply": "2020-05-01T11:54:03.469411Z",
     "shell.execute_reply.started": "2020-05-01T11:54:00.862907Z"
    }
   },
   "outputs": [
    {
     "data": {
      "text/plain": [
       "[<matplotlib.lines.Line2D at 0x7f52746153a0>]"
      ]
     },
     "execution_count": 4,
     "metadata": {},
     "output_type": "execute_result"
    },
    {
     "data": {
      "image/png": "[encoded data removed]",
      "text/plain": [
       "<Figure size 432x288 with 1 Axes>"
      ]
     },
     "metadata": {
      "needs_background": "light"
     },
     "output_type": "display_data"
    }
   ],
   "source": [
    "n_inf = 1e-7\n",
    "res = si_int(np.array([1. - n_inf, n_inf]), np.arange(50.), 0.5)\n",
    "plt.plot(res[:, 0], c='b')\n",
    "plt.plot(res[:, 1], c='r')"
   ]
  },
  {
   "cell_type": "code",
   "execution_count": 5,
   "metadata": {
    "execution": {
     "iopub.execute_input": "2020-05-01T11:54:03.476740Z",
     "iopub.status.busy": "2020-05-01T11:54:03.475765Z",
     "iopub.status.idle": "2020-05-01T11:54:03.499373Z",
     "shell.execute_reply": "2020-05-01T11:54:03.495371Z",
     "shell.execute_reply.started": "2020-05-01T11:54:03.476634Z"
    }
   },
   "outputs": [],
   "source": [
    "def model(N, y=None):\n",
    "    i_init = numpyro.sample('i_init', dist.LogNormal(loc=5, scale=1), sample_shape=(1,)) / pop_fr\n",
    "    z_init = np.array([1. - i_init[0], i_init[0]])\n",
    "    ts = np.arange(float(N))\n",
    "    \n",
    "    r0 = numpyro.sample('r0', dist.TruncatedNormal(low=0.1, loc=3.3, scale=1.0))\n",
    "    \n",
    "    z = si_int(z_init, ts, r0)\n",
    "    \n",
    "    sigma = numpyro.sample('sigma', dist.HalfCauchy(1.))\n",
    "    \n",
    "    numpyro.sample('y', dist.Normal(z, sigma), obs=y)"
   ]
  },
  {
   "cell_type": "code",
   "execution_count": null,
   "metadata": {
    "execution": {
     "iopub.execute_input": "2020-05-01T11:54:03.503208Z",
     "iopub.status.busy": "2020-05-01T11:54:03.502308Z"
    }
   },
   "outputs": [
    {
     "name": "stderr",
     "output_type": "stream",
     "text": [
      "warmup:   5%|▌         | 52/1000 [01:31<11:45,  1.34it/s, 1023 steps of size 1.95e-05. acc. prob=0.73]  "
     ]
    }
   ],
   "source": [
    "# use dense_mass for better mixing rate\n",
    "mcmc = MCMC(NUTS(model, dense_mass=True),\n",
    "            500, 500, num_chains=NUM_CHAINS,\n",
    "            progress_bar=True)\n",
    "mcmc.run(PRNGKey(0), N=data.shape[0], y=data / pop_fr)\n",
    "mcmc.print_summary()"
   ]
  },
  {
   "cell_type": "code",
   "execution_count": null,
   "metadata": {},
   "outputs": [],
   "source": [
    "y_pred = Predictive(model, mcmc.get_samples())(PRNGKey(2), data.shape[0])['y']\n",
    "\n",
    "pop_pred = y_pred\n",
    "mu, pi = np.mean(pop_pred, 0), np.percentile(pop_pred, (10, 90), 0)\n",
    "# mu = np.exp(mu)\n",
    "# pi = np.exp(pi)"
   ]
  },
  {
   "cell_type": "code",
   "execution_count": null,
   "metadata": {},
   "outputs": [],
   "source": [
    "# plt.plot(times, data[:, 0], \"ko\", mfc=\"none\", ms=4, label=\"true hare\", alpha=0.67)\n",
    "# plt.plot(times, np.log(data[:, 1]), \"bx\", label=\"true infected\")\n",
    "# plt.plot(times, mu[:, 0], \"k-.\", label=\"pred sane\", lw=1, alpha=0.67)\n",
    "plt.plot(times, mu[:, 1], \"b--\", label=\"pred infected\")\n",
    "# plt.fill_between(times, pi[0, :, 0], pi[1, :, 0], color=\"k\", alpha=0.2)\n",
    "plt.fill_between(times, pi[0, :, 1], pi[1, :, 1], color=\"b\", alpha=0.3)\n",
    "plt.gca().set(xlabel=\"date\", ylabel=\"population\")\n",
    "# plt.title(\"Posterior predictive (80% CI) with predator-prey pattern.\")\n",
    "plt.legend()\n",
    "\n",
    "plt.tight_layout()"
   ]
  },
  {
   "cell_type": "code",
   "execution_count": null,
   "metadata": {},
   "outputs": [],
   "source": [
    "inference_data = az.from_numpyro(mcmc)\n",
    "inference_data"
   ]
  },
  {
   "cell_type": "code",
   "execution_count": null,
   "metadata": {},
   "outputs": [],
   "source": [
    "az.plot_trace(inference_data) ;"
   ]
  },
  {
   "cell_type": "markdown",
   "metadata": {},
   "source": [
    "# SEIR-HCD"
   ]
  },
  {
   "cell_type": "markdown",
   "metadata": {},
   "source": [
    "\n",
    "Parameters used in the model\n",
    "\n",
    "R_t = reproduction number at time t. Typical 3.6* at t=0\n",
    "\n",
    "Transition times\n",
    "\n",
    "    T_inc = average incubation period. Typical 5.6* days\n",
    "    T_inf = average infectious period. Typical 2.9 days\n",
    "    T_hosp = average time a patient is in hospital before either recovering or becoming critical. Typical 4 days\n",
    "    T_crit = average time a patient is in a critical state (either recover or die). Typical 14 days\n",
    "\n",
    "Fractions  \n",
    "These constants are likely to be age specific (hence the subscript a):\n",
    "\n",
    "    m_a = fraction of infections that are asymptomatic or mild. Assumed 80% (i.e. 20% severe)\n",
    "    c_a = fraction of severe cases that turn critical. Assumed 10%\n",
    "    f_a = fraction of critical cases that are fatal. Assumed 30%\n",
    "    \n",
    "*Averages taken from https://www.kaggle.com/covid-19-contributions"
   ]
  },
  {
   "cell_type": "code",
   "execution_count": null,
   "metadata": {},
   "outputs": [],
   "source": [
    "def dz_dt(z, t, r0, r1, t_lim, t_inc, t_inf, t_hosp, t_crit, m_a, c_a, f_a):\n",
    "#     s = np.clip(z[0], 0., 1.)\n",
    "#     e = np.clip(z[1], 0., 1.)\n",
    "#     i = np.clip(z[2], 0., 1.)\n",
    "#     r = np.clip(z[3], 0., 1.)\n",
    "#     h = np.clip(z[4], 0., 1.)\n",
    "#     c = np.clip(z[5], 0., 1.)\n",
    "#     d = np.clip(z[6], 0., 1.)\n",
    "    s = z[0]\n",
    "    e = z[1]\n",
    "    i = z[2]\n",
    "    r = z[3]\n",
    "    h = z[4]\n",
    "    c = z[5]\n",
    "#     d = z[6]\n",
    "    \n",
    "    bl = t < t_lim\n",
    "    rt = r0 * bl + (1 - bl) * r1\n",
    "    \n",
    "    ds = - (rt / t_inf) * i * s\n",
    "    de = (rt / t_inf) * i * s - (e / t_inc)\n",
    "    di = e / t_inc - i / t_inf\n",
    "    dr = m_a * i / t_inf + (1 - c_a) * (h / t_hosp)\n",
    "    dh = (1 - m_a) * (i / t_inf) + (1 - f_a) * c / t_crit - h / t_hosp\n",
    "    dc = c_a * h / t_hosp - c / t_crit\n",
    "    dd = f_a * c / t_crit\n",
    "    \n",
    "    return np.stack([ds, de, di, dr, dh, dc, dd])\n",
    "\n",
    "seirhcd_int = build_odeint(dz_dt, rtol=1e-5, atol=1e-9, mxstep=500)"
   ]
  },
  {
   "cell_type": "code",
   "execution_count": null,
   "metadata": {},
   "outputs": [],
   "source": [
    "n_inf = 1e-6\n",
    "z_init = np.array([1. - n_inf, 0., n_inf, 0., 0., 0., 0.])\n",
    "ts = np.arange(float(data.shape[0]))\n",
    "\n",
    "R_0 = 3.3\n",
    "R_1 = 0.8\n",
    "t_lim = 30.\n",
    "t_inc = 5.6\n",
    "t_inf = 2.9\n",
    "t_hosp = 4.\n",
    "t_crit = 14.\n",
    "m_a = 0.8\n",
    "c_a = 0.1\n",
    "f_a = 0.35\n",
    "\n",
    "args = (R_0, R_1, t_lim, t_inc, t_inf, t_hosp, t_crit, m_a, c_a, f_a)\n",
    "\n",
    "res = seirhcd_int(z_init, ts, *args)\n",
    "df_res = pd.DataFrame(res)\n",
    "df_res.columns = 's e i r h c d'.split()\n",
    "df_res.drop('s', axis=1).plot(figsize=(8, 5)) ;"
   ]
  },
  {
   "cell_type": "code",
   "execution_count": null,
   "metadata": {},
   "outputs": [],
   "source": [
    "theta_esp = np.array([R_0, R_1, t_lim, t_inc, t_inf, t_hosp, t_crit])\n",
    "fractions_esp = np.array([m_a, c_a, f_a])\n",
    "\n",
    "def model(N, y=None):\n",
    "#     i_init = numpyro.sample('i_init', dist.Uniform(low=1., high=10000.), sample_shape=(1,)) / pop_fr\n",
    "    i_init = numpyro.sample('i_init', dist.TruncatedNormal(loc=1000., scale=100.), sample_shape=(1,)) / pop_fr\n",
    "    z_init = np.array([1. - i_init[0], 0., i_init[0], 0., 0., 0., 0.])\n",
    "    ts = np.arange(float(N))\n",
    "    \n",
    "#     r0 = numpyro.sample('r0', dist.TruncatedNormal(low=0.1, loc=3.3, scale=1.0))\n",
    "    theta = numpyro.sample(\n",
    "        \"theta\",\n",
    "        dist.TruncatedNormal(\n",
    "#             low=np.array([1., 0.5, 40., 0., 0., 0., 0., 0., 0., 0.]),\n",
    "            loc=theta_esp,\n",
    "            scale=np.array([0.5, 0.4, 5., 3.,  5., 3., 5.])))\n",
    "    \n",
    "    r0 = np.clip(theta[0], 1., 4.)\n",
    "    r1 = np.clip(theta[1], 0., 2.)\n",
    "    \n",
    "    fractions = numpyro.sample(\n",
    "        'fractions',\n",
    "        dist.TruncatedNormal(\n",
    "            low=np.zeros(3),\n",
    "            loc=np.array([0.8, 0.1, 0.35]),\n",
    "            scale=np.array([0.1, 0.1, 0.1]),\n",
    "            \n",
    "#             loc=fractions_esp, \n",
    "#             scale=fractions_esp / 10\n",
    "        )\n",
    "    )\n",
    "    fractions = np.clip(fractions, 0., 1.)\n",
    "    \n",
    "    z = seirhcd_int(z_init, ts, r0, r1, *theta[2:], *fractions)\n",
    "#     total_cases = z[:, 2:].sum(axis=1)\n",
    "    total_deaths = z[:, -1]\n",
    "    sigma = numpyro.sample('sigma', dist.HalfCauchy(1.))\n",
    "#     psi = numpyro.sample('psi', dist.TruncatedNormal(scale=5.))\n",
    "    \n",
    "#     numpyro.sample('y', dist.Normal(total_cases, sigma), obs=y)\n",
    "    numpyro.sample('y', dist.TruncatedNormal(0, total_deaths, sigma), obs=y)\n",
    "\n",
    "#     numpyro.sample('y', dist.GammaPoisson(psi*total_deaths, rate=psi), obs=y)"
   ]
  },
  {
   "cell_type": "code",
   "execution_count": null,
   "metadata": {},
   "outputs": [],
   "source": [
    "data = total_deaths\n",
    "# use dense_mass for better mixing rate\n",
    "mcmc = MCMC(NUTS(model, dense_mass=True),\n",
    "            500, 500, num_chains=NUM_CHAINS,\n",
    "            progress_bar=True)\n",
    "mcmc.run(PRNGKey(0), N=data.shape[0], y=data / pop_fr)\n",
    "mcmc.print_summary()"
   ]
  },
  {
   "cell_type": "code",
   "execution_count": null,
   "metadata": {},
   "outputs": [],
   "source": [
    "y_pred = Predictive(model, mcmc.get_samples())(PRNGKey(2), data.shape[0])['y']\n",
    "\n",
    "pop_pred = y_pred\n",
    "mu = np.mean(pop_pred, 0)\n",
    "pi = np.percentile(pop_pred, (10, 90), 0)"
   ]
  },
  {
   "cell_type": "code",
   "execution_count": null,
   "metadata": {},
   "outputs": [],
   "source": [
    "times = subset.loc[ix[:, 'total_deaths']].loc['2020-02-15':].index.map(onp.datetime64).to_numpy()\n",
    "\n",
    "fig, ax = plt.subplots(figsize=(8, 5))\n",
    "plt.plot(times, data / pop_fr, \"bx\", label=\"true\")\n",
    "plt.plot(times, mu, \"b--\", label=\"pred\")\n",
    "plt.fill_between(times, pi[0, :], pi[1, :], color=\"b\", alpha=0.3)\n",
    "plt.legend()\n",
    "plt.xticks(rotation=45)\n",
    "\n",
    "plt.tight_layout()"
   ]
  },
  {
   "cell_type": "code",
   "execution_count": null,
   "metadata": {},
   "outputs": [],
   "source": [
    "inference_data = az.from_numpyro(mcmc)\n",
    "inference_data\n",
    "\n",
    "az.plot_trace(inference_data) ;"
   ]
  }
 ],
 "metadata": {
  "kernelspec": {
   "display_name": "Python 3",
   "language": "python",
   "name": "python3"
  },
  "language_info": {
   "codemirror_mode": {
    "name": "ipython",
    "version": 3
   },
   "file_extension": ".py",
   "mimetype": "text/x-python",
   "name": "python",
   "nbconvert_exporter": "python",
   "pygments_lexer": "ipython3",
   "version": "3.8.2"
  },
  "toc-autonumbering": true,
  "toc-showcode": false,
  "toc-showmarkdowntxt": false,
  "toc-showtags": false
 },
 "nbformat": 4,
 "nbformat_minor": 4
}
